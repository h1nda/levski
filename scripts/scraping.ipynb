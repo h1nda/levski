{
 "cells": [
  {
   "cell_type": "code",
   "execution_count": 3,
   "metadata": {},
   "outputs": [],
   "source": [
    "# Import relevant libraries\n",
    "from bs4 import BeautifulSoup as bs\n",
    "import requests\n",
    "import re"
   ]
  },
  {
   "cell_type": "code",
   "execution_count": 4,
   "metadata": {},
   "outputs": [],
   "source": [
    "def fetch_season_links(): # Make a request\n",
    "    req = requests.get('https://levskisofia.info/seasons/')\n",
    "    page = bs(req.content)\n",
    "    # Extract all links to the seasons in the 2010s and 2020s\n",
    "    season_links = []\n",
    "    for link in page.find_all(\"a\",string=re.compile(r'^20[12]')):\n",
    "        season_links.append(link['href'])\n",
    "    \n",
    "    return season_links\n"
   ]
  },
  {
   "cell_type": "code",
   "execution_count": 5,
   "metadata": {},
   "outputs": [],
   "source": [
    "# Attributes we want: Opponent, Result, Scorers, Coach, Date, Hosted?, Tournament\n",
    "def fetch_match_links(season_link):\n",
    "    try:\n",
    "        req = requests.get(season_link)\n",
    "    except Exception as e:\n",
    "        print(e)\n",
    "    page = bs(req.content)\n",
    "\n",
    "    tournament_links = [] \n",
    "    for link in page.select(\"td.plt.bds > a\"):\n",
    "        tournament_links.append(link['href']) #to-do: remove code duplication\n",
    "\n",
    "    matches_links = []\n",
    "\n",
    "    for tournament in tournament_links:\n",
    "        req = requests.get(tournament)\n",
    "        page = bs(req.content)\n",
    "        for link in page.select(\"td.nobrlt.nobrrt > a\"):\n",
    "            matches_links.append(link['href'])\n",
    "    \n",
    "    return matches_links"
   ]
  },
  {
   "cell_type": "code",
   "execution_count": 6,
   "metadata": {},
   "outputs": [],
   "source": [
    "# Result of match, paramters are levski's goalscore and the opponent's\n",
    "def result(levski, opp):\n",
    "    if (levski > opp):\n",
    "        return \"win\"\n",
    "    if (levski == opp):\n",
    "        return \"tie\"\n",
    "    return \"loss\"\n",
    "\n",
    "def fetch_match_info(match_link): \n",
    "    try:\n",
    "        req = requests.get(match_link)\n",
    "    except Exception as e:\n",
    "        print(e)\n",
    "        \n",
    "    page = bs(req.content)\n",
    "    # We'll gather relevant match info in a dictionary for the match:\n",
    "    match_info = {}\n",
    "    # Select opponent's tag and extract the text:\n",
    "    match_info['opponent_name'] = page.find(\"div\",class_=\"description\").find(\"a\").text\n",
    "\n",
    "    # Results of matches: '1:1', '3:1', '2:2'.\n",
    "    score_pattern = re.compile(r'(\\d):(\\d)')\n",
    "    # We're getting this result from the match description since it's standardized into \"Levski's score : Opponent's score\"\n",
    "    text = page.select_one('div.description > p > span').text\n",
    "    \n",
    "    levski_goals = int(score_pattern.search(text).group(1))\n",
    "    opp_goals = int(score_pattern.search(text).group(2))\n",
    " \n",
    "    match_info['levski_goals'] = levski_goals\n",
    "    match_info['opponent_goals'] = opp_goals\n",
    "    match_info['result'] = result(levski_goals,opp_goals)\n",
    "\n",
    "    # Levski's coach, they have a link on the website so that why we use .find(\"a\") to distuingish them\n",
    "    match_info['coach'] = page.find(\"div\",class_=\"coach\").find(\"a\").text\n",
    "\n",
    "    # Did Levski host the match? Levksi's home stadium is Стадион \"Георги Аспарухов\", София\n",
    "    info_box = page.find(\"div\",class_=\"info\").text\n",
    "    match_info['hosted'] = bool(re.search(\"Георги Аспарухов\", info_box))\n",
    "\n",
    "    # Add list of scorers\n",
    "    if levski_goals > 0:\n",
    "        scorers_tags = page.find_all(\"span\", class_=\"gRes\")\n",
    "        match_info['scorers'] = [scorer.next_sibling.text for scorer in scorers_tags]\n",
    "\n",
    "    # Day, date, hour of match\n",
    "    date_info = page.select_one('div.info > p.p1').text.split(sep=\", \")\n",
    "    match_info['date'] = date_info[1]\n",
    "   \n",
    "    # Add tournament name\n",
    "    match_info['tournament'] = page.select_one('div.info > p.p2 > a').text\n",
    "    return match_info"
   ]
  },
  {
   "cell_type": "code",
   "execution_count": 7,
   "metadata": {},
   "outputs": [
    {
     "data": {
      "text/plain": [
       "{'opponent_name': 'Видима-Раковски (Севлиево)',\n",
       " 'levski_goals': 2,\n",
       " 'opponent_goals': 1,\n",
       " 'result': 'win',\n",
       " 'coach': 'Ясен Петров',\n",
       " 'hosted': False,\n",
       " 'scorers': ['Гара Дембеле', 'Дарко Тасевски', 'Герасим Заков'],\n",
       " 'date': '30 август 2010 година',\n",
       " 'tournament': '\"А\" Футболна група'}"
      ]
     },
     "execution_count": 7,
     "metadata": {},
     "output_type": "execute_result"
    }
   ],
   "source": [
    "fetch_match_info('https://levskisofia.info/match/19116605-sevlievo-sevlievo-levski-sofia-1-2/')"
   ]
  },
  {
   "cell_type": "code",
   "execution_count": 8,
   "metadata": {},
   "outputs": [],
   "source": [
    "import itertools\n",
    "\n",
    "def one_season_all_matches_info(season_link):\n",
    "    matches = fetch_match_links(season_link)\n",
    "    \n",
    "    list_of_matches = []\n",
    "    for match_link in matches:\n",
    "        try:\n",
    "            list_of_matches.append(fetch_match_info(match_link))\n",
    "        except Exception as e:\n",
    "            print(match_link)\n",
    "            print(e)\n",
    "    \n",
    "    return list_of_matches\n",
    "\n",
    "def scrape_matches():\n",
    "    all_matches = []\n",
    "    season_links = fetch_season_links()\n",
    "    for season_link in season_links:\n",
    "        all_matches.append(one_season_all_matches_info(season_link))\n",
    "        \n",
    "    return list(itertools.chain.from_iterable(all_matches))\n",
    "\n",
    "    "
   ]
  },
  {
   "cell_type": "code",
   "execution_count": 9,
   "metadata": {},
   "outputs": [
    {
     "name": "stdout",
     "output_type": "stream",
     "text": [
      "https://levskisofia.info/match/19116619-kaliakra-1923-kavarna-levski-sofia-0-3/\n",
      "'NoneType' object has no attribute 'find'\n",
      "https://levskisofia.info/match/19120403-liteks-lovech-levski-sofia-1-1/\n",
      "'NoneType' object has no attribute 'group'\n",
      "https://levskisofia.info/match/19240502-spartak-tarnava-levski-sofia-2-1/\n",
      "'NoneType' object has no attribute 'group'\n",
      "https://levskisofia.info/match/19320409-beroe-stara-zagora-levski-sofia-3-3/\n",
      "'NoneType' object has no attribute 'group'\n",
      "https://levskisofia.info/match/19420404-levski-sofia-cska-sofia-0-0/\n",
      "'NoneType' object has no attribute 'group'\n",
      "https://levskisofia.info/match/19616602-levski-sofia-liteks-lovech-2-2/\n",
      "'NoneType' object has no attribute 'find'\n",
      "https://levskisofia.info/match/19616611-liteks-lovech-levski-sofia-1-2/\n",
      "'NoneType' object has no attribute 'find'\n",
      "https://levskisofia.info/match/19616620-levski-sofia-liteks-lovech-3-0/\n",
      "'NoneType' object has no attribute 'find'\n",
      "https://levskisofia.info/match/19620401-pomorie-pomorie-levski-sofia-0-0/\n",
      "'NoneType' object has no attribute 'group'\n",
      "https://levskisofia.info/match/19732101-levski-sofia-vereya-stara-zagora-1-1/\n",
      "'NoneType' object has no attribute 'group'\n",
      "https://levskisofia.info/match/19820406-slavia-1913-sofia-levski-sofia-0-0/\n",
      "'NoneType' object has no attribute 'group'\n",
      "https://levskisofia.info/match/19920402-cherno-more-varna-levski-sofia-2-2/\n",
      "'NoneType' object has no attribute 'group'\n",
      "https://levskisofia.info/match/20020403-levski-sofia-ludogorets-1945-razgrad-0-0/\n",
      "'NoneType' object has no attribute 'group'\n",
      "https://levskisofia.info/match/20216722-levski-sofia-cska-sofia-sofia/\n",
      "'NoneType' object has no attribute 'find'\n",
      "https://levskisofia.info/match/20216723-ludogorets-1945-razgrad-levski-sofia/\n",
      "'NoneType' object has no attribute 'find'\n",
      "https://levskisofia.info/match/20216724-levski-sofia-lokomotiv-1929-sofia/\n",
      "'NoneType' object has no attribute 'find'\n",
      "https://levskisofia.info/match/20216725-pirin-blagoevgrad-levski-sofia/\n",
      "'NoneType' object has no attribute 'find'\n",
      "https://levskisofia.info/match/20216726-levski-sofia-cherno-more-varna/\n",
      "'NoneType' object has no attribute 'find'\n",
      "https://levskisofia.info/match/20220404-ludogorets-1945-razgrad-levski-sofia/\n",
      "'NoneType' object has no attribute 'find'\n",
      "https://levskisofia.info/match/20220405-levski-sofia-ludogorets-1945-razgrad/\n",
      "'NoneType' object has no attribute 'find'\n"
     ]
    }
   ],
   "source": [
    "all_matches = scrape_matches()"
   ]
  },
  {
   "cell_type": "code",
   "execution_count": 10,
   "metadata": {},
   "outputs": [
    {
     "data": {
      "text/plain": [
       "459"
      ]
     },
     "execution_count": 10,
     "metadata": {},
     "output_type": "execute_result"
    }
   ],
   "source": [
    "# TO-DO: matches with continuation for penalties aren't correctly processed\n",
    "# TO-DO: Auto wins, anulled matches - no descriptions, goals for Levski even though they didn't score. *** Manual entry?\n",
    "# TO-DO: exclude from getting pages of future matches\n",
    "len(all_matches)"
   ]
  },
  {
   "cell_type": "code",
   "execution_count": 11,
   "metadata": {},
   "outputs": [],
   "source": [
    "import json\n",
    "\n",
    "def save_data(title, data):\n",
    "  base_path = \"../data/\"\n",
    "  with open(base_path + title, 'w', encoding='utf-8') as f:\n",
    "    json.dump(data, f, ensure_ascii=False, indent=2)"
   ]
  },
  {
   "cell_type": "code",
   "execution_count": 12,
   "metadata": {},
   "outputs": [],
   "source": [
    "save_data(\"levski_new.json\", all_matches)"
   ]
  }
 ],
 "metadata": {
  "interpreter": {
   "hash": "2f866a03f98d4ca2b21faf0c67bbf1f232d485ee96ae93f1f0b88b10a6acb4b2"
  },
  "kernelspec": {
   "display_name": "Python 3.8.10 ('minimal')",
   "language": "python",
   "name": "python3"
  },
  "language_info": {
   "codemirror_mode": {
    "name": "ipython",
    "version": 3
   },
   "file_extension": ".py",
   "mimetype": "text/x-python",
   "name": "python",
   "nbconvert_exporter": "python",
   "pygments_lexer": "ipython3",
   "version": "3.8.10"
  },
  "orig_nbformat": 4
 },
 "nbformat": 4,
 "nbformat_minor": 2
}
